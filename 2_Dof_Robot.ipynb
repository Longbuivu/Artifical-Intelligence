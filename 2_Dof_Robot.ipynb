{
  "nbformat": 4,
  "nbformat_minor": 0,
  "metadata": {
    "colab": {
      "name": "2 Dof Robot.ipynb",
      "provenance": [],
      "mount_file_id": "1f_T5tVdW_EeHxYUKX18WNvuEFvbI8_VA",
      "authorship_tag": "ABX9TyPMbzubTejr/Y4gcSky+pVn",
      "include_colab_link": true
    },
    "kernelspec": {
      "name": "python3",
      "display_name": "Python 3"
    },
    "language_info": {
      "name": "python"
    }
  },
  "cells": [
    {
      "cell_type": "markdown",
      "metadata": {
        "id": "view-in-github",
        "colab_type": "text"
      },
      "source": [
        "<a href=\"https://colab.research.google.com/github/Longbuivu/Artifical-Intelligence/blob/main/2_Dof_Robot.ipynb\" target=\"_parent\"><img src=\"https://colab.research.google.com/assets/colab-badge.svg\" alt=\"Open In Colab\"/></a>"
      ]
    },
    {
      "cell_type": "code",
      "execution_count": 8,
      "metadata": {
        "id": "p5hbOOCpk499"
      },
      "outputs": [],
      "source": [
        "import numpy as np\n",
        "import pandas as pd\n",
        "import math\n",
        "import seaborn as ses\n",
        "import matplotlib.pyplot as plt\n",
        "import matplotlib.image as mpimg\n",
        "\n",
        "from sklearn.preprocessing import StandardScaler\n",
        "from sklearn.model_selection import train_test_split\n",
        "from sklearn.metrics import precision_score,recall_score,confusion_matrix,classification_report,accuracy_score,f1_score\n",
        "\n",
        "from keras.layers import Dense, Activation, Dropout, BatchNormalization, LSTM,Conv2D, MaxPooling2D, Flatten,LeakyReLU\n",
        "from keras.models import Sequential\n",
        "from tensorflow.keras.utils import to_categorical ,load_img, img_to_array\n",
        "from tensorflow.keras.optimizers import RMSprop,SGD\n",
        "from tensorflow.keras.models import load_model\n",
        "from keras import callbacks\n",
        "from keras.callbacks import EarlyStopping"
      ]
    },
    {
      "cell_type": "code",
      "source": [
        "data_robot = []\n",
        "l1 = 50\n",
        "l2 = 40\n",
        "#l3 = 20\n",
        "#phi = theta1 +theta2 + theta3\n",
        "for theta1 in range (-90,90):\n",
        "  for theta2 in range (-90,90):\n",
        "    px = l1*np.cos(np.radians(theta1)) + l2*np.cos(np.radians(theta1 + theta2))\n",
        "    py = l1*np.sin(np.radians(theta1)) + l2*np.sin(np.radians(theta1 + theta2))\n",
        "    data_robot.append([theta1,theta2,px,py])\n",
        "data = pd.DataFrame(data_robot,columns=['theta1','theta2','Px','Py'])\n",
        "data"
      ],
      "metadata": {
        "colab": {
          "base_uri": "https://localhost:8080/",
          "height": 424
        },
        "id": "Hcqg8kGnk7Qf",
        "outputId": "756d71b0-04ee-46af-fe02-281f14ffcb8f"
      },
      "execution_count": 9,
      "outputs": [
        {
          "output_type": "execute_result",
          "data": {
            "text/plain": [
              "       theta1  theta2         Px         Py\n",
              "0         -90     -90 -40.000000 -50.000000\n",
              "1         -90     -89 -39.993908 -50.698096\n",
              "2         -90     -88 -39.975633 -51.395980\n",
              "3         -90     -87 -39.945181 -52.093438\n",
              "4         -90     -86 -39.902562 -52.790259\n",
              "...       ...     ...        ...        ...\n",
              "32395      89      85 -38.908255  54.173523\n",
              "32396      89      86 -38.975168  53.478614\n",
              "32397      89      87 -39.029942  52.782644\n",
              "32398      89      88 -39.072561  52.085823\n",
              "32399      89      89 -39.103013  51.388365\n",
              "\n",
              "[32400 rows x 4 columns]"
            ],
            "text/html": [
              "\n",
              "  <div id=\"df-1d77ffc9-e5aa-48db-bfb9-df5e80210b96\">\n",
              "    <div class=\"colab-df-container\">\n",
              "      <div>\n",
              "<style scoped>\n",
              "    .dataframe tbody tr th:only-of-type {\n",
              "        vertical-align: middle;\n",
              "    }\n",
              "\n",
              "    .dataframe tbody tr th {\n",
              "        vertical-align: top;\n",
              "    }\n",
              "\n",
              "    .dataframe thead th {\n",
              "        text-align: right;\n",
              "    }\n",
              "</style>\n",
              "<table border=\"1\" class=\"dataframe\">\n",
              "  <thead>\n",
              "    <tr style=\"text-align: right;\">\n",
              "      <th></th>\n",
              "      <th>theta1</th>\n",
              "      <th>theta2</th>\n",
              "      <th>Px</th>\n",
              "      <th>Py</th>\n",
              "    </tr>\n",
              "  </thead>\n",
              "  <tbody>\n",
              "    <tr>\n",
              "      <th>0</th>\n",
              "      <td>-90</td>\n",
              "      <td>-90</td>\n",
              "      <td>-40.000000</td>\n",
              "      <td>-50.000000</td>\n",
              "    </tr>\n",
              "    <tr>\n",
              "      <th>1</th>\n",
              "      <td>-90</td>\n",
              "      <td>-89</td>\n",
              "      <td>-39.993908</td>\n",
              "      <td>-50.698096</td>\n",
              "    </tr>\n",
              "    <tr>\n",
              "      <th>2</th>\n",
              "      <td>-90</td>\n",
              "      <td>-88</td>\n",
              "      <td>-39.975633</td>\n",
              "      <td>-51.395980</td>\n",
              "    </tr>\n",
              "    <tr>\n",
              "      <th>3</th>\n",
              "      <td>-90</td>\n",
              "      <td>-87</td>\n",
              "      <td>-39.945181</td>\n",
              "      <td>-52.093438</td>\n",
              "    </tr>\n",
              "    <tr>\n",
              "      <th>4</th>\n",
              "      <td>-90</td>\n",
              "      <td>-86</td>\n",
              "      <td>-39.902562</td>\n",
              "      <td>-52.790259</td>\n",
              "    </tr>\n",
              "    <tr>\n",
              "      <th>...</th>\n",
              "      <td>...</td>\n",
              "      <td>...</td>\n",
              "      <td>...</td>\n",
              "      <td>...</td>\n",
              "    </tr>\n",
              "    <tr>\n",
              "      <th>32395</th>\n",
              "      <td>89</td>\n",
              "      <td>85</td>\n",
              "      <td>-38.908255</td>\n",
              "      <td>54.173523</td>\n",
              "    </tr>\n",
              "    <tr>\n",
              "      <th>32396</th>\n",
              "      <td>89</td>\n",
              "      <td>86</td>\n",
              "      <td>-38.975168</td>\n",
              "      <td>53.478614</td>\n",
              "    </tr>\n",
              "    <tr>\n",
              "      <th>32397</th>\n",
              "      <td>89</td>\n",
              "      <td>87</td>\n",
              "      <td>-39.029942</td>\n",
              "      <td>52.782644</td>\n",
              "    </tr>\n",
              "    <tr>\n",
              "      <th>32398</th>\n",
              "      <td>89</td>\n",
              "      <td>88</td>\n",
              "      <td>-39.072561</td>\n",
              "      <td>52.085823</td>\n",
              "    </tr>\n",
              "    <tr>\n",
              "      <th>32399</th>\n",
              "      <td>89</td>\n",
              "      <td>89</td>\n",
              "      <td>-39.103013</td>\n",
              "      <td>51.388365</td>\n",
              "    </tr>\n",
              "  </tbody>\n",
              "</table>\n",
              "<p>32400 rows × 4 columns</p>\n",
              "</div>\n",
              "      <button class=\"colab-df-convert\" onclick=\"convertToInteractive('df-1d77ffc9-e5aa-48db-bfb9-df5e80210b96')\"\n",
              "              title=\"Convert this dataframe to an interactive table.\"\n",
              "              style=\"display:none;\">\n",
              "        \n",
              "  <svg xmlns=\"http://www.w3.org/2000/svg\" height=\"24px\"viewBox=\"0 0 24 24\"\n",
              "       width=\"24px\">\n",
              "    <path d=\"M0 0h24v24H0V0z\" fill=\"none\"/>\n",
              "    <path d=\"M18.56 5.44l.94 2.06.94-2.06 2.06-.94-2.06-.94-.94-2.06-.94 2.06-2.06.94zm-11 1L8.5 8.5l.94-2.06 2.06-.94-2.06-.94L8.5 2.5l-.94 2.06-2.06.94zm10 10l.94 2.06.94-2.06 2.06-.94-2.06-.94-.94-2.06-.94 2.06-2.06.94z\"/><path d=\"M17.41 7.96l-1.37-1.37c-.4-.4-.92-.59-1.43-.59-.52 0-1.04.2-1.43.59L10.3 9.45l-7.72 7.72c-.78.78-.78 2.05 0 2.83L4 21.41c.39.39.9.59 1.41.59.51 0 1.02-.2 1.41-.59l7.78-7.78 2.81-2.81c.8-.78.8-2.07 0-2.86zM5.41 20L4 18.59l7.72-7.72 1.47 1.35L5.41 20z\"/>\n",
              "  </svg>\n",
              "      </button>\n",
              "      \n",
              "  <style>\n",
              "    .colab-df-container {\n",
              "      display:flex;\n",
              "      flex-wrap:wrap;\n",
              "      gap: 12px;\n",
              "    }\n",
              "\n",
              "    .colab-df-convert {\n",
              "      background-color: #E8F0FE;\n",
              "      border: none;\n",
              "      border-radius: 50%;\n",
              "      cursor: pointer;\n",
              "      display: none;\n",
              "      fill: #1967D2;\n",
              "      height: 32px;\n",
              "      padding: 0 0 0 0;\n",
              "      width: 32px;\n",
              "    }\n",
              "\n",
              "    .colab-df-convert:hover {\n",
              "      background-color: #E2EBFA;\n",
              "      box-shadow: 0px 1px 2px rgba(60, 64, 67, 0.3), 0px 1px 3px 1px rgba(60, 64, 67, 0.15);\n",
              "      fill: #174EA6;\n",
              "    }\n",
              "\n",
              "    [theme=dark] .colab-df-convert {\n",
              "      background-color: #3B4455;\n",
              "      fill: #D2E3FC;\n",
              "    }\n",
              "\n",
              "    [theme=dark] .colab-df-convert:hover {\n",
              "      background-color: #434B5C;\n",
              "      box-shadow: 0px 1px 3px 1px rgba(0, 0, 0, 0.15);\n",
              "      filter: drop-shadow(0px 1px 2px rgba(0, 0, 0, 0.3));\n",
              "      fill: #FFFFFF;\n",
              "    }\n",
              "  </style>\n",
              "\n",
              "      <script>\n",
              "        const buttonEl =\n",
              "          document.querySelector('#df-1d77ffc9-e5aa-48db-bfb9-df5e80210b96 button.colab-df-convert');\n",
              "        buttonEl.style.display =\n",
              "          google.colab.kernel.accessAllowed ? 'block' : 'none';\n",
              "\n",
              "        async function convertToInteractive(key) {\n",
              "          const element = document.querySelector('#df-1d77ffc9-e5aa-48db-bfb9-df5e80210b96');\n",
              "          const dataTable =\n",
              "            await google.colab.kernel.invokeFunction('convertToInteractive',\n",
              "                                                     [key], {});\n",
              "          if (!dataTable) return;\n",
              "\n",
              "          const docLinkHtml = 'Like what you see? Visit the ' +\n",
              "            '<a target=\"_blank\" href=https://colab.research.google.com/notebooks/data_table.ipynb>data table notebook</a>'\n",
              "            + ' to learn more about interactive tables.';\n",
              "          element.innerHTML = '';\n",
              "          dataTable['output_type'] = 'display_data';\n",
              "          await google.colab.output.renderOutput(dataTable, element);\n",
              "          const docLink = document.createElement('div');\n",
              "          docLink.innerHTML = docLinkHtml;\n",
              "          element.appendChild(docLink);\n",
              "        }\n",
              "      </script>\n",
              "    </div>\n",
              "  </div>\n",
              "  "
            ]
          },
          "metadata": {},
          "execution_count": 9
        }
      ]
    },
    {
      "cell_type": "code",
      "source": [
        "Y_df=data.drop(['Px','Py'],axis =1)\n",
        "X_df=data.drop(['theta1','theta2'],axis =1)\n",
        "print(X_df.shape,Y_df.shape)"
      ],
      "metadata": {
        "colab": {
          "base_uri": "https://localhost:8080/"
        },
        "id": "pESVkqQjlDOD",
        "outputId": "09ccd345-3afd-4f6c-9906-828457490cc0"
      },
      "execution_count": 10,
      "outputs": [
        {
          "output_type": "stream",
          "name": "stdout",
          "text": [
            "(32400, 2) (32400, 2)\n"
          ]
        }
      ]
    },
    {
      "cell_type": "code",
      "source": [
        "X_train,X_test,Y_train,Y_test = train_test_split(X_df,Y_df,test_size=0.25,random_state =7)\n",
        "print(X_train.shape,Y_train.shape,X_test.shape,Y_test.shape)\n",
        "Y_train.head(5)"
      ],
      "metadata": {
        "colab": {
          "base_uri": "https://localhost:8080/",
          "height": 223
        },
        "id": "ywtemP_OlGfh",
        "outputId": "7a52414e-f5b4-414f-ad0e-88d6a2e60add"
      },
      "execution_count": 11,
      "outputs": [
        {
          "output_type": "stream",
          "name": "stdout",
          "text": [
            "(24300, 2) (24300, 2) (8100, 2) (8100, 2)\n"
          ]
        },
        {
          "output_type": "execute_result",
          "data": {
            "text/plain": [
              "       theta1  theta2\n",
              "20563      24     -47\n",
              "5732      -59      62\n",
              "31971      87      21\n",
              "31134      82      84\n",
              "8768      -42      38"
            ],
            "text/html": [
              "\n",
              "  <div id=\"df-71c75e1f-3821-4b4b-9637-967dbd8445c0\">\n",
              "    <div class=\"colab-df-container\">\n",
              "      <div>\n",
              "<style scoped>\n",
              "    .dataframe tbody tr th:only-of-type {\n",
              "        vertical-align: middle;\n",
              "    }\n",
              "\n",
              "    .dataframe tbody tr th {\n",
              "        vertical-align: top;\n",
              "    }\n",
              "\n",
              "    .dataframe thead th {\n",
              "        text-align: right;\n",
              "    }\n",
              "</style>\n",
              "<table border=\"1\" class=\"dataframe\">\n",
              "  <thead>\n",
              "    <tr style=\"text-align: right;\">\n",
              "      <th></th>\n",
              "      <th>theta1</th>\n",
              "      <th>theta2</th>\n",
              "    </tr>\n",
              "  </thead>\n",
              "  <tbody>\n",
              "    <tr>\n",
              "      <th>20563</th>\n",
              "      <td>24</td>\n",
              "      <td>-47</td>\n",
              "    </tr>\n",
              "    <tr>\n",
              "      <th>5732</th>\n",
              "      <td>-59</td>\n",
              "      <td>62</td>\n",
              "    </tr>\n",
              "    <tr>\n",
              "      <th>31971</th>\n",
              "      <td>87</td>\n",
              "      <td>21</td>\n",
              "    </tr>\n",
              "    <tr>\n",
              "      <th>31134</th>\n",
              "      <td>82</td>\n",
              "      <td>84</td>\n",
              "    </tr>\n",
              "    <tr>\n",
              "      <th>8768</th>\n",
              "      <td>-42</td>\n",
              "      <td>38</td>\n",
              "    </tr>\n",
              "  </tbody>\n",
              "</table>\n",
              "</div>\n",
              "      <button class=\"colab-df-convert\" onclick=\"convertToInteractive('df-71c75e1f-3821-4b4b-9637-967dbd8445c0')\"\n",
              "              title=\"Convert this dataframe to an interactive table.\"\n",
              "              style=\"display:none;\">\n",
              "        \n",
              "  <svg xmlns=\"http://www.w3.org/2000/svg\" height=\"24px\"viewBox=\"0 0 24 24\"\n",
              "       width=\"24px\">\n",
              "    <path d=\"M0 0h24v24H0V0z\" fill=\"none\"/>\n",
              "    <path d=\"M18.56 5.44l.94 2.06.94-2.06 2.06-.94-2.06-.94-.94-2.06-.94 2.06-2.06.94zm-11 1L8.5 8.5l.94-2.06 2.06-.94-2.06-.94L8.5 2.5l-.94 2.06-2.06.94zm10 10l.94 2.06.94-2.06 2.06-.94-2.06-.94-.94-2.06-.94 2.06-2.06.94z\"/><path d=\"M17.41 7.96l-1.37-1.37c-.4-.4-.92-.59-1.43-.59-.52 0-1.04.2-1.43.59L10.3 9.45l-7.72 7.72c-.78.78-.78 2.05 0 2.83L4 21.41c.39.39.9.59 1.41.59.51 0 1.02-.2 1.41-.59l7.78-7.78 2.81-2.81c.8-.78.8-2.07 0-2.86zM5.41 20L4 18.59l7.72-7.72 1.47 1.35L5.41 20z\"/>\n",
              "  </svg>\n",
              "      </button>\n",
              "      \n",
              "  <style>\n",
              "    .colab-df-container {\n",
              "      display:flex;\n",
              "      flex-wrap:wrap;\n",
              "      gap: 12px;\n",
              "    }\n",
              "\n",
              "    .colab-df-convert {\n",
              "      background-color: #E8F0FE;\n",
              "      border: none;\n",
              "      border-radius: 50%;\n",
              "      cursor: pointer;\n",
              "      display: none;\n",
              "      fill: #1967D2;\n",
              "      height: 32px;\n",
              "      padding: 0 0 0 0;\n",
              "      width: 32px;\n",
              "    }\n",
              "\n",
              "    .colab-df-convert:hover {\n",
              "      background-color: #E2EBFA;\n",
              "      box-shadow: 0px 1px 2px rgba(60, 64, 67, 0.3), 0px 1px 3px 1px rgba(60, 64, 67, 0.15);\n",
              "      fill: #174EA6;\n",
              "    }\n",
              "\n",
              "    [theme=dark] .colab-df-convert {\n",
              "      background-color: #3B4455;\n",
              "      fill: #D2E3FC;\n",
              "    }\n",
              "\n",
              "    [theme=dark] .colab-df-convert:hover {\n",
              "      background-color: #434B5C;\n",
              "      box-shadow: 0px 1px 3px 1px rgba(0, 0, 0, 0.15);\n",
              "      filter: drop-shadow(0px 1px 2px rgba(0, 0, 0, 0.3));\n",
              "      fill: #FFFFFF;\n",
              "    }\n",
              "  </style>\n",
              "\n",
              "      <script>\n",
              "        const buttonEl =\n",
              "          document.querySelector('#df-71c75e1f-3821-4b4b-9637-967dbd8445c0 button.colab-df-convert');\n",
              "        buttonEl.style.display =\n",
              "          google.colab.kernel.accessAllowed ? 'block' : 'none';\n",
              "\n",
              "        async function convertToInteractive(key) {\n",
              "          const element = document.querySelector('#df-71c75e1f-3821-4b4b-9637-967dbd8445c0');\n",
              "          const dataTable =\n",
              "            await google.colab.kernel.invokeFunction('convertToInteractive',\n",
              "                                                     [key], {});\n",
              "          if (!dataTable) return;\n",
              "\n",
              "          const docLinkHtml = 'Like what you see? Visit the ' +\n",
              "            '<a target=\"_blank\" href=https://colab.research.google.com/notebooks/data_table.ipynb>data table notebook</a>'\n",
              "            + ' to learn more about interactive tables.';\n",
              "          element.innerHTML = '';\n",
              "          dataTable['output_type'] = 'display_data';\n",
              "          await google.colab.output.renderOutput(dataTable, element);\n",
              "          const docLink = document.createElement('div');\n",
              "          docLink.innerHTML = docLinkHtml;\n",
              "          element.appendChild(docLink);\n",
              "        }\n",
              "      </script>\n",
              "    </div>\n",
              "  </div>\n",
              "  "
            ]
          },
          "metadata": {},
          "execution_count": 11
        }
      ]
    },
    {
      "cell_type": "code",
      "source": [
        "model = Sequential()\n",
        "model.add(Dense(256,LeakyReLU(), input_shape = (2,)))\n",
        "model.add(Dense(256,LeakyReLU()))\n",
        "model.add(Dropout(0.2))\n",
        "model.add(Dense(256,LeakyReLU()))\n",
        "model.add(Dense(256,LeakyReLU()))\n",
        "model.add(Dropout(0.2))\n",
        "model.add(Dense(256,LeakyReLU()))\n",
        "model.add(Dense(256,LeakyReLU()))\n",
        "model.add(Dropout(0.2))\n",
        "model.add(Dense(256,LeakyReLU()))\n",
        "model.add(Dense(2))\n",
        "model.summary()\n",
        "\n",
        "opt = SGD(lr=0.001,momentum=0.1) #toc do hoc 0.01, momen dong luong 0.9 'Ftrl'\n",
        "model.compile(loss='mse',optimizer=opt,metrics=['accuracy'])"
      ],
      "metadata": {
        "colab": {
          "base_uri": "https://localhost:8080/"
        },
        "id": "nFk_zil9lHhI",
        "outputId": "14521365-964b-42ca-afc1-2b5599c4aab5"
      },
      "execution_count": 12,
      "outputs": [
        {
          "output_type": "stream",
          "name": "stdout",
          "text": [
            "Model: \"sequential_1\"\n",
            "_________________________________________________________________\n",
            " Layer (type)                Output Shape              Param #   \n",
            "=================================================================\n",
            " dense_8 (Dense)             (None, 256)               768       \n",
            "                                                                 \n",
            " dense_9 (Dense)             (None, 256)               65792     \n",
            "                                                                 \n",
            " dropout_3 (Dropout)         (None, 256)               0         \n",
            "                                                                 \n",
            " dense_10 (Dense)            (None, 256)               65792     \n",
            "                                                                 \n",
            " dense_11 (Dense)            (None, 256)               65792     \n",
            "                                                                 \n",
            " dropout_4 (Dropout)         (None, 256)               0         \n",
            "                                                                 \n",
            " dense_12 (Dense)            (None, 256)               65792     \n",
            "                                                                 \n",
            " dense_13 (Dense)            (None, 256)               65792     \n",
            "                                                                 \n",
            " dropout_5 (Dropout)         (None, 256)               0         \n",
            "                                                                 \n",
            " dense_14 (Dense)            (None, 256)               65792     \n",
            "                                                                 \n",
            " dense_15 (Dense)            (None, 2)                 514       \n",
            "                                                                 \n",
            "=================================================================\n",
            "Total params: 396,034\n",
            "Trainable params: 396,034\n",
            "Non-trainable params: 0\n",
            "_________________________________________________________________\n"
          ]
        },
        {
          "output_type": "stream",
          "name": "stderr",
          "text": [
            "/usr/local/lib/python3.7/dist-packages/keras/optimizer_v2/gradient_descent.py:102: UserWarning: The `lr` argument is deprecated, use `learning_rate` instead.\n",
            "  super(SGD, self).__init__(name, **kwargs)\n"
          ]
        }
      ]
    },
    {
      "cell_type": "code",
      "source": [
        "history=model.fit(X_train,Y_train,batch_size=32,epochs=10,verbose=1,validation_data=(X_test,Y_test))"
      ],
      "metadata": {
        "colab": {
          "base_uri": "https://localhost:8080/"
        },
        "id": "BmuS6e6NlN8g",
        "outputId": "25796e2e-5676-41c2-c590-c39c1bb30086"
      },
      "execution_count": 13,
      "outputs": [
        {
          "output_type": "stream",
          "name": "stdout",
          "text": [
            "Epoch 1/10\n",
            "760/760 [==============================] - 7s 8ms/step - loss: nan - accuracy: 0.5034 - val_loss: nan - val_accuracy: 0.5014\n",
            "Epoch 2/10\n",
            "760/760 [==============================] - 6s 8ms/step - loss: nan - accuracy: 0.5033 - val_loss: nan - val_accuracy: 0.5014\n",
            "Epoch 3/10\n",
            "760/760 [==============================] - 6s 7ms/step - loss: nan - accuracy: 0.5033 - val_loss: nan - val_accuracy: 0.5014\n",
            "Epoch 4/10\n",
            "760/760 [==============================] - 6s 8ms/step - loss: nan - accuracy: 0.5033 - val_loss: nan - val_accuracy: 0.5014\n",
            "Epoch 5/10\n",
            "760/760 [==============================] - 6s 8ms/step - loss: nan - accuracy: 0.5033 - val_loss: nan - val_accuracy: 0.5014\n",
            "Epoch 6/10\n",
            "760/760 [==============================] - 6s 8ms/step - loss: nan - accuracy: 0.5033 - val_loss: nan - val_accuracy: 0.5014\n",
            "Epoch 7/10\n",
            "760/760 [==============================] - 6s 8ms/step - loss: nan - accuracy: 0.5033 - val_loss: nan - val_accuracy: 0.5014\n",
            "Epoch 8/10\n",
            "760/760 [==============================] - 6s 8ms/step - loss: nan - accuracy: 0.5033 - val_loss: nan - val_accuracy: 0.5014\n",
            "Epoch 9/10\n",
            "760/760 [==============================] - 6s 8ms/step - loss: nan - accuracy: 0.5033 - val_loss: nan - val_accuracy: 0.5014\n",
            "Epoch 10/10\n",
            "760/760 [==============================] - 7s 9ms/step - loss: nan - accuracy: 0.5033 - val_loss: nan - val_accuracy: 0.5014\n"
          ]
        }
      ]
    },
    {
      "cell_type": "code",
      "source": [
        "plt.plot(history.history['accuracy'])\n",
        "plt.plot(history.history['val_accuracy'])\n",
        "plt.title('Model Accuracy')\n",
        "plt.ylabel('Accuracy')\n",
        "plt.xlabel('epochs')\n",
        "plt.legend(['Train','validation'],loc='upper left')\n",
        "plt.show()"
      ],
      "metadata": {
        "colab": {
          "base_uri": "https://localhost:8080/",
          "height": 295
        },
        "id": "3lDfPourlSUx",
        "outputId": "0b5b5588-f25e-4618-b17e-c8522f475f4c"
      },
      "execution_count": 14,
      "outputs": [
        {
          "output_type": "display_data",
          "data": {
            "text/plain": [
              "<Figure size 432x288 with 1 Axes>"
            ],
            "image/png": "[encoded data removed]"
          },
          "metadata": {
            "needs_background": "light"
          }
        }
      ]
    },
    {
      "cell_type": "code",
      "source": [
        "model.save('/content/drive/MyDrive/AI/2DOF Robot/2dof_robot.h5')"
      ],
      "metadata": {
        "id": "VtniPfuRluAM"
      },
      "execution_count": 15,
      "outputs": []
    },
    {
      "cell_type": "code",
      "source": [
        "\n",
        "model_test=load_model('/content/drive/MyDrive/AI/2DOF Robot/2dof_robot.h5')"
      ],
      "metadata": {
        "id": "TsCTJIQNno2o"
      },
      "execution_count": 16,
      "outputs": []
    },
    {
      "cell_type": "code",
      "source": [
        "#test\n",
        "asd = np.array([[50,40],[0,90]])\n",
        "y_predict = model_test.predict(asd)\n",
        "print(y_predict)"
      ],
      "metadata": {
        "id": "MFzdUvZgnvYG"
      },
      "execution_count": null,
      "outputs": []
    },
    {
      "cell_type": "code",
      "source": [
        "  "
      ],
      "metadata": {
        "id": "8tr5UF3KnzfO"
      },
      "execution_count": null,
      "outputs": []
    }
  ]
}